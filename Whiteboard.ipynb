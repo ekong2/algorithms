{
 "cells": [
  {
   "cell_type": "code",
   "execution_count": 1,
   "metadata": {
    "collapsed": true
   },
   "outputs": [],
   "source": [
    "class Tree():\n",
    "    def __init__(self, value):\n",
    "        self.value = value\n",
    "        self.right = None\n",
    "        self.left = None\n",
    "\n",
    "TreeBST = Tree(100)\n",
    "TreeBST.left = Tree(50)\n",
    "TreeBST.left.left = Tree(25)\n",
    "TreeBST.left.right = Tree (75)\n",
    "TreeBST.right = Tree(200)\n",
    "TreeBST.right.left = Tree(125)\n",
    "TreeBST.right.right = Tree(350)\n"
   ]
  },
  {
   "cell_type": "code",
   "execution_count": 9,
   "metadata": {
    "collapsed": false
   },
   "outputs": [],
   "source": [
    "counter = 0\n",
    "def findNthHighestInBST(root, n):\n",
    "    if root is None:\n",
    "        return None\n",
    "    \n",
    "    result = findNthHighestInBST(root.right, n)\n",
    "    if result is not None:\n",
    "        return result\n",
    "    \n",
    "    global counter\n",
    "    \n",
    "    counter += 1\n",
    "    if counter == n:\n",
    "        return root.value\n",
    "    \n",
    "    result = findNthHighestInBST(root.left, n)\n",
    "    if result is not None:\n",
    "        return result\n",
    "    \n",
    "    return None\n",
    "\n",
    "# print (findNthHighestInBST(TreeBST, 3))"
   ]
  },
  {
   "cell_type": "code",
   "execution_count": 10,
   "metadata": {
    "collapsed": true
   },
   "outputs": [],
   "source": [
    "def MirrorTree(root):\n",
    "    if root is None:\n",
    "        return\n",
    "    \n",
    "    MirrorTree(root.left)\n",
    "    MirrorTree(root.right)\n",
    "    root.left, root.right = root.right, root.right\n",
    "    \n",
    "    return root\n"
   ]
  },
  {
   "cell_type": "code",
   "execution_count": 17,
   "metadata": {
    "collapsed": false
   },
   "outputs": [],
   "source": [
    "from collections import deque\n",
    "def DeleteZeroSumSubTrees(root):\n",
    "    if root == None:\n",
    "        return root\n",
    "    \n",
    "    if getSum(root) == 0:\n",
    "        return None\n",
    "    \n",
    "    q = deque()\n",
    "    q.append(root)\n",
    "    while q:\n",
    "        ele = q.popleft()\n",
    "        if getSum(ele.left) == 0:\n",
    "            ele.left = None\n",
    "        if getSum(ele.right) == 0:\n",
    "            ele.right = None\n",
    "            \n",
    "        if ele.left != None:\n",
    "            q.append(ele.left)\n",
    "        if ele.right != None:\n",
    "            q.append(ele.right)\n",
    "    \n",
    "    return root\n",
    "\n",
    "def getSum(root):\n",
    "    sum = 0\n",
    "    if root == None:\n",
    "        return sum\n",
    "    \n",
    "    sum += root.value + getSum(root.left) + getSum(root.right)\n",
    "    return sum\n",
    "\n",
    "# print (DeleteZeroSumSubTrees(TreeBST).value)\n"
   ]
  },
  {
   "cell_type": "code",
   "execution_count": null,
   "metadata": {
    "collapsed": true
   },
   "outputs": [],
   "source": [
    "def deleteZeroSumSubTrees2(root):\n",
    "    if root != None:\n",
    "        sum = deleteZeroSumSubTrees2Recursive(root)\n",
    "        if sum == 0:\n",
    "            root = None\n",
    "    \n",
    "    return root\n",
    "\n",
    "def deleteZeroSumSubTrees2Recursive(root):\n",
    "    if root = None:\n",
    "        return 0\n",
    "    \n",
    "    leftSum = deleteZeroSumSubTrees2Recursive(root.left)\n",
    "    rightSum = deleteZeroSumSubTrees2Recursive(root.right)\n",
    "    \n",
    "    if leftSum == 0:\n",
    "        root.left = None\n",
    "            \n",
    "    if rightSum == 0:\n",
    "        root.right = None\n",
    "    \n",
    "    return root.value + leftSum + rightSum"
   ]
  },
  {
   "cell_type": "code",
   "execution_count": 68,
   "metadata": {
    "collapsed": false
   },
   "outputs": [],
   "source": [
    "dimension = 5\n",
    "matrix = [[],[],[],[],[]]\n",
    "counter = 0\n",
    "for i in range(dimension):\n",
    "    for j in range(dimension):\n",
    "        matrix[i].append(counter)\n",
    "        counter += 1"
   ]
  },
  {
   "cell_type": "code",
   "execution_count": 54,
   "metadata": {
    "collapsed": false
   },
   "outputs": [
    {
     "data": {
      "text/plain": [
       "[[20, 15, 10, 5, 0],\n",
       " [21, 16, 11, 6, 1],\n",
       " [22, 17, 12, 7, 2],\n",
       " [23, 18, 13, 8, 3],\n",
       " [24, 19, 14, 9, 4]]"
      ]
     },
     "execution_count": 54,
     "metadata": {},
     "output_type": "execute_result"
    }
   ],
   "source": [
    "def rotateNinetyDegrees(matrix):\n",
    "    newMatrix = []\n",
    "    counter = 0\n",
    "    for i in range(len(matrix)):\n",
    "        newMatrix.append([])\n",
    "        for j in range(5):\n",
    "            newMatrix[i].append(counter)\n",
    "            counter += 1\n",
    "    for i in range(len(matrix)):\n",
    "        for j in range(len(matrix[i])):\n",
    "            newMatrix[i][j] = matrix[j][i]\n",
    "    for i in range(len(matrix)):\n",
    "        newMatrix[i].reverse()\n",
    "    return newMatrix\n",
    "rotateNinetyDegrees(matrix)"
   ]
  },
  {
   "cell_type": "code",
   "execution_count": 71,
   "metadata": {
    "collapsed": false
   },
   "outputs": [
    {
     "data": {
      "text/plain": [
       "[(20, 15, 10, 5, 0),\n",
       " (21, 16, 11, 6, 1),\n",
       " (22, 17, 12, 7, 2),\n",
       " (23, 18, 13, 8, 3),\n",
       " (24, 19, 14, 9, 4)]"
      ]
     },
     "execution_count": 71,
     "metadata": {},
     "output_type": "execute_result"
    }
   ],
   "source": [
    "def rotateNinetyDegrees(matrix):\n",
    "    return list(zip(*matrix[::-1]))\n",
    "rotateNinetyDegrees(matrix)"
   ]
  },
  {
   "cell_type": "code",
   "execution_count": null,
   "metadata": {
    "collapsed": true
   },
   "outputs": [],
   "source": []
  }
 ],
 "metadata": {
  "kernelspec": {
   "display_name": "Python 3",
   "language": "python",
   "name": "python3"
  },
  "language_info": {
   "codemirror_mode": {
    "name": "ipython",
    "version": 3
   },
   "file_extension": ".py",
   "mimetype": "text/x-python",
   "name": "python",
   "nbconvert_exporter": "python",
   "pygments_lexer": "ipython3",
   "version": "3.5.2"
  }
 },
 "nbformat": 4,
 "nbformat_minor": 2
}
