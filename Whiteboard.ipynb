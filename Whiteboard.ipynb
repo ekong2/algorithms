{
 "cells": [
  {
   "cell_type": "code",
   "execution_count": 8,
   "metadata": {
    "collapsed": true,
    "deletable": true,
    "editable": true
   },
   "outputs": [],
   "source": [
    "class Tree():\n",
    "    def __init__(self, value):\n",
    "        self.value = value\n",
    "        self.right = None\n",
    "        self.left = None\n",
    "\n",
    "TreeBST = Tree(100)\n",
    "TreeBST.left = Tree(50)\n",
    "TreeBST.left.left = Tree(25)\n",
    "TreeBST.left.right = Tree (75)\n",
    "TreeBST.right = Tree(200)\n",
    "TreeBST.right.left = Tree(125)\n",
    "TreeBST.right.right = Tree(350)\n"
   ]
  },
  {
   "cell_type": "code",
   "execution_count": 9,
   "metadata": {
    "collapsed": false,
    "deletable": true,
    "editable": true
   },
   "outputs": [],
   "source": [
    "counter = 0\n",
    "def findNthHighestInBST(root, n):\n",
    "    if root is None:\n",
    "        return None\n",
    "    \n",
    "    result = findNthHighestInBST(root.right, n)\n",
    "    if result is not None:\n",
    "        return result\n",
    "    \n",
    "    global counter\n",
    "    \n",
    "    counter += 1\n",
    "    if counter == n:\n",
    "        return root.value\n",
    "    \n",
    "    result = findNthHighestInBST(root.left, n)\n",
    "    if result is not None:\n",
    "        return result\n",
    "    \n",
    "    return None\n",
    "\n",
    "# print (findNthHighestInBST(TreeBST, 3))"
   ]
  },
  {
   "cell_type": "code",
   "execution_count": 10,
   "metadata": {
    "collapsed": true,
    "deletable": true,
    "editable": true
   },
   "outputs": [],
   "source": [
    "def MirrorTree(root):\n",
    "    if root is None:\n",
    "        return\n",
    "    \n",
    "    MirrorTree(root.left)\n",
    "    MirrorTree(root.right)\n",
    "    root.left, root.right = root.right, root.right\n",
    "    \n",
    "    return root\n"
   ]
  },
  {
   "cell_type": "code",
   "execution_count": 11,
   "metadata": {
    "collapsed": false,
    "deletable": true,
    "editable": true
   },
   "outputs": [],
   "source": [
    "from collections import deque\n",
    "def DeleteZeroSumSubTrees(root):\n",
    "    if root == None:\n",
    "        return root\n",
    "    \n",
    "    if getSum(root) == 0:\n",
    "        return None\n",
    "    \n",
    "    q = deque()\n",
    "    q.append(root)\n",
    "    while q:\n",
    "        ele = q.popleft()\n",
    "        if getSum(ele.left) == 0:\n",
    "            ele.left = None\n",
    "        if getSum(ele.right) == 0:\n",
    "            ele.right = None\n",
    "            \n",
    "        if ele.left != None:\n",
    "            q.append(ele.left)\n",
    "        if ele.right != None:\n",
    "            q.append(ele.right)\n",
    "    \n",
    "    return root\n",
    "\n",
    "def getSum(root):\n",
    "    sum = 0\n",
    "    if root == None:\n",
    "        return sum\n",
    "    \n",
    "    sum += root.value + getSum(root.left) + getSum(root.right)\n",
    "    return sum\n",
    "\n",
    "# print (DeleteZeroSumSubTrees(TreeBST).value)\n"
   ]
  },
  {
   "cell_type": "code",
   "execution_count": 12,
   "metadata": {
    "collapsed": false,
    "deletable": true,
    "editable": true
   },
   "outputs": [],
   "source": [
    "def deleteZeroSumSubTrees2(root):\n",
    "    if root != None:\n",
    "        sum = deleteZeroSumSubTrees2Recursive(root)\n",
    "        if sum == 0:\n",
    "            root = None\n",
    "    \n",
    "    return root\n",
    "\n",
    "def deleteZeroSumSubTrees2Recursive(root):\n",
    "    if root == None:\n",
    "        return 0\n",
    "    \n",
    "    leftSum = deleteZeroSumSubTrees2Recursive(root.left)\n",
    "    rightSum = deleteZeroSumSubTrees2Recursive(root.right)\n",
    "    \n",
    "    if leftSum == 0:\n",
    "        root.left = None\n",
    "            \n",
    "    if rightSum == 0:\n",
    "        root.right = None\n",
    "    \n",
    "    return root.value + leftSum + rightSum"
   ]
  },
  {
   "cell_type": "code",
   "execution_count": 13,
   "metadata": {
    "collapsed": false,
    "deletable": true,
    "editable": true
   },
   "outputs": [],
   "source": [
    "dimension = 5\n",
    "matrix = [[],[],[],[],[]]\n",
    "counter = 0\n",
    "for i in range(dimension):\n",
    "    for j in range(dimension):\n",
    "        matrix[i].append(counter)\n",
    "        counter += 1"
   ]
  },
  {
   "cell_type": "code",
   "execution_count": 14,
   "metadata": {
    "collapsed": false,
    "deletable": true,
    "editable": true
   },
   "outputs": [],
   "source": [
    "def rotateNinetyDegrees(matrix):\n",
    "    newMatrix = []\n",
    "    counter = 0\n",
    "    for i in range(len(matrix)):\n",
    "        newMatrix.append([])\n",
    "        for j in range(5):\n",
    "            newMatrix[i].append(counter)\n",
    "            counter += 1\n",
    "    for i in range(len(matrix)):\n",
    "        for j in range(len(matrix[i])):\n",
    "            newMatrix[i][j] = matrix[j][i]\n",
    "    for i in range(len(matrix)):\n",
    "        newMatrix[i].reverse()\n",
    "    return newMatrix\n",
    "# rotateNinetyDegrees(matrix)"
   ]
  },
  {
   "cell_type": "code",
   "execution_count": 15,
   "metadata": {
    "collapsed": false,
    "deletable": true,
    "editable": true
   },
   "outputs": [],
   "source": [
    "def rotateNinetyDegrees(matrix):\n",
    "    return list(zip(*matrix[::-1]))\n",
    "# rotateNinetyDegrees(matrix)"
   ]
  },
  {
   "cell_type": "code",
   "execution_count": 16,
   "metadata": {
    "collapsed": true,
    "deletable": true,
    "editable": true
   },
   "outputs": [],
   "source": [
    "def recursiveInorderIterator(root):\n",
    "    def __init__(self, root):\n",
    "        self.stack = []\n",
    "        while root:\n",
    "            self.stack.append(root)\n",
    "            root = root.left\n",
    "    def hasNext():\n",
    "        return self.stack == None\n",
    "    def getNext():\n",
    "        ele = self.stack[-1]\n",
    "        current = ele.right\n",
    "        while current:\n",
    "            self.stack.append(current.left)\n",
    "            current = current.left\n",
    "        return ele"
   ]
  },
  {
   "cell_type": "code",
   "execution_count": 17,
   "metadata": {
    "collapsed": true,
    "deletable": true,
    "editable": true
   },
   "outputs": [],
   "source": [
    "def checkIfBinaryTreesIdentical(t1,t2):\n",
    "    if t1 == None and t2 == None:\n",
    "        return True\n",
    "    \n",
    "    if t1 != None and t2 != None:\n",
    "        return (t1.value == t2.value and checkIfbinaryTreesIdentical(t1.left, t2.left) and \n",
    "    checkIfBinaryTreesIdentical(t1.right, t2.right))\n",
    "    \n",
    "    return False"
   ]
  },
  {
   "cell_type": "code",
   "execution_count": 19,
   "metadata": {
    "collapsed": true,
    "deletable": true,
    "editable": true
   },
   "outputs": [],
   "source": [
    "def findMin(root):\n",
    "    while root:\n",
    "        if root.left == None:\n",
    "            return root\n",
    "        root = root.left\n",
    "    return None\n",
    "            \n",
    "def getNextInorderNode(root, value):\n",
    "    if root == None:\n",
    "        return None\n",
    "    \n",
    "    maxSeen = None\n",
    "    while root:\n",
    "        if root.value == value:\n",
    "            if root.right:\n",
    "                return findMin(root.right)\n",
    "            else:\n",
    "                return maxSeen\n",
    "        elif root.value > value:\n",
    "            maxSeen = root\n",
    "            root = root.left\n",
    "        else:\n",
    "            root = root.right\n"
   ]
  },
  {
   "cell_type": "code",
   "execution_count": 21,
   "metadata": {
    "collapsed": false
   },
   "outputs": [],
   "source": [
    "def maxSubArray(arr):\n",
    "    globalMax = arr[0]\n",
    "    maxSoFar = 0\n",
    "    for i in range(len(arr)):\n",
    "        maxSoFar += arr[i]\n",
    "        if maxSoFar > globalMax:\n",
    "            globalMax = maxSoFar\n",
    "        elif maxSoFar < 0:\n",
    "            maxSoFar = 0\n",
    "    return globalMax\n",
    "# maxSubArray(-2,-3,4,-1,-2,1,5,-3])    "
   ]
  },
  {
   "cell_type": "code",
   "execution_count": 29,
   "metadata": {
    "collapsed": false
   },
   "outputs": [],
   "source": [
    "def printSlidingKMax(array, k):\n",
    "    window = deque()\n",
    "    for i in range(k):\n",
    "        while window and array[window[-1]] < array[i]:\n",
    "            window.popleft()\n",
    "        window.append(i)\n",
    "    print (array[window[0]])\n",
    "    for i in range(k, len(array)):\n",
    "        while window and array[window[-1]] < array[i]:\n",
    "            window.pop()\n",
    "        while window and window[0]<= i - k:\n",
    "            window.popleft()\n",
    "        window.append(i)\n",
    "        print (array[window[0]])\n",
    "\n",
    "# printSlidingKMax([-4,2,-5,3,6], 3)            "
   ]
  },
  {
   "cell_type": "code",
   "execution_count": 33,
   "metadata": {
    "collapsed": false
   },
   "outputs": [
    {
     "name": "stdout",
     "output_type": "stream",
     "text": [
      "-5\n",
      "3\n",
      "0\n",
      "-530\n"
     ]
    }
   ],
   "source": [
    "def digitDistanceNumber(n):\n",
    "    digits = []\n",
    "    while n > 10:\n",
    "        digit = n%10\n",
    "        n = int(n/10)\n",
    "        digits.append(digit)\n",
    "    digits.append(n)\n",
    "    \n",
    "    distanceString = ''\n",
    "    for i in range(len(digits) - 1, 0, -1):\n",
    "        distanceDigit = digits[i] - digits[i-1]\n",
    "        print (distanceDigit)\n",
    "        distanceString += str(distanceDigit)\n",
    "    return (distanceString)\n",
    "print (digitDistanceNumber(2744))"
   ]
  },
  {
   "cell_type": "code",
   "execution_count": null,
   "metadata": {
    "collapsed": true
   },
   "outputs": [],
   "source": []
  }
 ],
 "metadata": {
  "kernelspec": {
   "display_name": "Python 3",
   "language": "python",
   "name": "python3"
  },
  "language_info": {
   "codemirror_mode": {
    "name": "ipython",
    "version": 3
   },
   "file_extension": ".py",
   "mimetype": "text/x-python",
   "name": "python",
   "nbconvert_exporter": "python",
   "pygments_lexer": "ipython3",
   "version": "3.5.2"
  }
 },
 "nbformat": 4,
 "nbformat_minor": 2
}
