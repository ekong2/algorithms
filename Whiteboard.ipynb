{
 "cells": [
  {
   "cell_type": "code",
   "execution_count": 8,
   "metadata": {
    "collapsed": true,
    "deletable": true,
    "editable": true
   },
   "outputs": [],
   "source": [
    "class Tree():\n",
    "    def __init__(self, value):\n",
    "        self.value = value\n",
    "        self.right = None\n",
    "        self.left = None\n",
    "\n",
    "TreeBST = Tree(100)\n",
    "TreeBST.left = Tree(50)\n",
    "TreeBST.left.left = Tree(25)\n",
    "TreeBST.left.right = Tree (75)\n",
    "TreeBST.right = Tree(200)\n",
    "TreeBST.right.left = Tree(125)\n",
    "TreeBST.right.right = Tree(350)\n"
   ]
  },
  {
   "cell_type": "code",
   "execution_count": 9,
   "metadata": {
    "collapsed": false,
    "deletable": true,
    "editable": true
   },
   "outputs": [],
   "source": [
    "counter = 0\n",
    "def findNthHighestInBST(root, n):\n",
    "    if root is None:\n",
    "        return None\n",
    "    \n",
    "    result = findNthHighestInBST(root.right, n)\n",
    "    if result is not None:\n",
    "        return result\n",
    "    \n",
    "    global counter\n",
    "    \n",
    "    counter += 1\n",
    "    if counter == n:\n",
    "        return root.value\n",
    "    \n",
    "    result = findNthHighestInBST(root.left, n)\n",
    "    if result is not None:\n",
    "        return result\n",
    "    \n",
    "    return None\n",
    "\n",
    "# print (findNthHighestInBST(TreeBST, 3))"
   ]
  },
  {
   "cell_type": "code",
   "execution_count": 10,
   "metadata": {
    "collapsed": true,
    "deletable": true,
    "editable": true
   },
   "outputs": [],
   "source": [
    "def MirrorTree(root):\n",
    "    if root is None:\n",
    "        return\n",
    "    \n",
    "    MirrorTree(root.left)\n",
    "    MirrorTree(root.right)\n",
    "    root.left, root.right = root.right, root.right\n",
    "    \n",
    "    return root\n"
   ]
  },
  {
   "cell_type": "code",
   "execution_count": 11,
   "metadata": {
    "collapsed": false,
    "deletable": true,
    "editable": true
   },
   "outputs": [],
   "source": [
    "from collections import deque\n",
    "def DeleteZeroSumSubTrees(root):\n",
    "    if root == None:\n",
    "        return root\n",
    "    \n",
    "    if getSum(root) == 0:\n",
    "        return None\n",
    "    \n",
    "    q = deque()\n",
    "    q.append(root)\n",
    "    while q:\n",
    "        ele = q.popleft()\n",
    "        if getSum(ele.left) == 0:\n",
    "            ele.left = None\n",
    "        if getSum(ele.right) == 0:\n",
    "            ele.right = None\n",
    "            \n",
    "        if ele.left != None:\n",
    "            q.append(ele.left)\n",
    "        if ele.right != None:\n",
    "            q.append(ele.right)\n",
    "    \n",
    "    return root\n",
    "\n",
    "def getSum(root):\n",
    "    sum = 0\n",
    "    if root == None:\n",
    "        return sum\n",
    "    \n",
    "    sum += root.value + getSum(root.left) + getSum(root.right)\n",
    "    return sum\n",
    "\n",
    "# print (DeleteZeroSumSubTrees(TreeBST).value)\n"
   ]
  },
  {
   "cell_type": "code",
   "execution_count": 12,
   "metadata": {
    "collapsed": false,
    "deletable": true,
    "editable": true
   },
   "outputs": [],
   "source": [
    "def deleteZeroSumSubTrees2(root):\n",
    "    if root != None:\n",
    "        sum = deleteZeroSumSubTrees2Recursive(root)\n",
    "        if sum == 0:\n",
    "            root = None\n",
    "    \n",
    "    return root\n",
    "\n",
    "def deleteZeroSumSubTrees2Recursive(root):\n",
    "    if root == None:\n",
    "        return 0\n",
    "    \n",
    "    leftSum = deleteZeroSumSubTrees2Recursive(root.left)\n",
    "    rightSum = deleteZeroSumSubTrees2Recursive(root.right)\n",
    "    \n",
    "    if leftSum == 0:\n",
    "        root.left = None\n",
    "            \n",
    "    if rightSum == 0:\n",
    "        root.right = None\n",
    "    \n",
    "    return root.value + leftSum + rightSum"
   ]
  },
  {
   "cell_type": "code",
   "execution_count": 39,
   "metadata": {
    "collapsed": false,
    "deletable": true,
    "editable": true
   },
   "outputs": [],
   "source": [
    "dimension = 5\n",
    "matrix = [[],[],[],[],[],[0,0,0,0,0]]\n",
    "counter = 0\n",
    "for i in range(dimension):\n",
    "    for j in range(dimension):\n",
    "        matrix[i].append(counter)\n",
    "        counter += 1"
   ]
  },
  {
   "cell_type": "code",
   "execution_count": 14,
   "metadata": {
    "collapsed": false,
    "deletable": true,
    "editable": true
   },
   "outputs": [],
   "source": [
    "def rotateNinetyDegrees(matrix):\n",
    "    newMatrix = []\n",
    "    counter = 0\n",
    "    for i in range(len(matrix)):\n",
    "        newMatrix.append([])\n",
    "        for j in range(5):\n",
    "            newMatrix[i].append(counter)\n",
    "            counter += 1\n",
    "    for i in range(len(matrix)):\n",
    "        for j in range(len(matrix[i])):\n",
    "            newMatrix[i][j] = matrix[j][i]\n",
    "    for i in range(len(matrix)):\n",
    "        newMatrix[i].reverse()\n",
    "    return newMatrix\n",
    "# rotateNinetyDegrees(matrix)"
   ]
  },
  {
   "cell_type": "code",
   "execution_count": 15,
   "metadata": {
    "collapsed": false,
    "deletable": true,
    "editable": true
   },
   "outputs": [],
   "source": [
    "def rotateNinetyDegrees(matrix):\n",
    "    return list(zip(*matrix[::-1]))\n",
    "# rotateNinetyDegrees(matrix)"
   ]
  },
  {
   "cell_type": "code",
   "execution_count": 16,
   "metadata": {
    "collapsed": true,
    "deletable": true,
    "editable": true
   },
   "outputs": [],
   "source": [
    "def recursiveInorderIterator(root):\n",
    "    def __init__(self, root):\n",
    "        self.stack = []\n",
    "        while root:\n",
    "            self.stack.append(root)\n",
    "            root = root.left\n",
    "    def hasNext():\n",
    "        return self.stack == None\n",
    "    def getNext():\n",
    "        ele = self.stack[-1]\n",
    "        current = ele.right\n",
    "        while current:\n",
    "            self.stack.append(current.left)\n",
    "            current = current.left\n",
    "        return ele"
   ]
  },
  {
   "cell_type": "code",
   "execution_count": 17,
   "metadata": {
    "collapsed": true,
    "deletable": true,
    "editable": true
   },
   "outputs": [],
   "source": [
    "def checkIfBinaryTreesIdentical(t1,t2):\n",
    "    if t1 == None and t2 == None:\n",
    "        return True\n",
    "    \n",
    "    if t1 != None and t2 != None:\n",
    "        return (t1.value == t2.value and checkIfbinaryTreesIdentical(t1.left, t2.left) and \n",
    "    checkIfBinaryTreesIdentical(t1.right, t2.right))\n",
    "    \n",
    "    return False"
   ]
  },
  {
   "cell_type": "code",
   "execution_count": 19,
   "metadata": {
    "collapsed": true,
    "deletable": true,
    "editable": true
   },
   "outputs": [],
   "source": [
    "def findMin(root):\n",
    "    while root:\n",
    "        if root.left == None:\n",
    "            return root\n",
    "        root = root.left\n",
    "    return None\n",
    "            \n",
    "def getNextInorderNode(root, value):\n",
    "    if root == None:\n",
    "        return None\n",
    "    \n",
    "    maxSeen = None\n",
    "    while root:\n",
    "        if root.value == value:\n",
    "            if root.right:\n",
    "                return findMin(root.right)\n",
    "            else:\n",
    "                return maxSeen\n",
    "        elif root.value > value:\n",
    "            maxSeen = root\n",
    "            root = root.left\n",
    "        else:\n",
    "            root = root.right\n"
   ]
  },
  {
   "cell_type": "code",
   "execution_count": 21,
   "metadata": {
    "collapsed": false,
    "deletable": true,
    "editable": true
   },
   "outputs": [],
   "source": [
    "def maxSubArray(arr):\n",
    "    globalMax = arr[0]\n",
    "    maxSoFar = 0\n",
    "    for i in range(len(arr)):\n",
    "        maxSoFar += arr[i]\n",
    "        if maxSoFar > globalMax:\n",
    "            globalMax = maxSoFar\n",
    "        elif maxSoFar < 0:\n",
    "            maxSoFar = 0\n",
    "    return globalMax\n",
    "# maxSubArray(-2,-3,4,-1,-2,1,5,-3])    "
   ]
  },
  {
   "cell_type": "code",
   "execution_count": 29,
   "metadata": {
    "collapsed": false,
    "deletable": true,
    "editable": true
   },
   "outputs": [],
   "source": [
    "def printSlidingKMax(array, k):\n",
    "    window = deque()\n",
    "    for i in range(k):\n",
    "        while window and array[window[-1]] < array[i]:\n",
    "            window.popleft()\n",
    "        window.append(i)\n",
    "    print (array[window[0]])\n",
    "    for i in range(k, len(array)):\n",
    "        while window and array[window[-1]] < array[i]:\n",
    "            window.pop()\n",
    "        while window and window[0]<= i - k:\n",
    "            window.popleft()\n",
    "        window.append(i)\n",
    "        print (array[window[0]])\n",
    "\n",
    "# printSlidingKMax([-4,2,-5,3,6], 3)            "
   ]
  },
  {
   "cell_type": "code",
   "execution_count": 34,
   "metadata": {
    "collapsed": false,
    "deletable": true,
    "editable": true
   },
   "outputs": [],
   "source": [
    "def digitDistanceNumber(n):\n",
    "    digits = []\n",
    "    while n > 10:\n",
    "        digit = n%10\n",
    "        n = int(n/10)\n",
    "        digits.append(digit)\n",
    "    digits.append(n)\n",
    "    \n",
    "    distanceString = ''\n",
    "    for i in range(len(digits) - 1, 0, -1):\n",
    "        distanceDigit = digits[i] - digits[i-1]\n",
    "        print (distanceDigit)\n",
    "        distanceString += str(distanceDigit)\n",
    "    return (distanceString)\n",
    "# print (digitDistanceNumber(2744))"
   ]
  },
  {
   "cell_type": "code",
   "execution_count": 41,
   "metadata": {
    "collapsed": false,
    "deletable": true,
    "editable": true
   },
   "outputs": [],
   "source": [
    "def matrixSpiral(matrix):\n",
    "    \n",
    "    startR = 0\n",
    "    startC = 0\n",
    "    endC = len(matrix[0]) - 1\n",
    "    endR = len(matrix) - 1\n",
    "    \n",
    "    while startR <= endR and startC <= endC:\n",
    "        #print top row L->R\n",
    "        for i in range(startC, endC + 1):\n",
    "            print (matrix[startR][i])\n",
    "        startR += 1\n",
    "        \n",
    "        #print right col T->B\n",
    "        for i in range(startR, endR + 1):\n",
    "            print (matrix[i][endC])\n",
    "        endC -= 1\n",
    "        \n",
    "        #print bottom row R->L\n",
    "        for i in range(endC, startC - 1, -1):\n",
    "            print (matrix[endR][i])\n",
    "        endR -= 1\n",
    "        \n",
    "        #print left col B->T\n",
    "        for i in range(endR, startR - 1, -1):\n",
    "            print (matrix[i][startC])\n",
    "        startC += 1\n",
    "# matrixSpiral(matrix)"
   ]
  },
  {
   "cell_type": "code",
   "execution_count": 57,
   "metadata": {
    "collapsed": false,
    "deletable": true,
    "editable": true
   },
   "outputs": [],
   "source": [
    "def expressionEvaluator(expression):\n",
    "    def isDigit(c):\n",
    "        if c >= '0' and c <= '9':\n",
    "            return True\n",
    "            \n",
    "    def convertToPostFix(expression):\n",
    "        postFix = []\n",
    "        operatorsStack = []\n",
    "        i = 0\n",
    "        while i < (len(expression)):\n",
    "            c = expression[i]\n",
    "            if c == '+' or c == '-':\n",
    "                while operatorsStack:\n",
    "                    postFix.append(operatorsStack[-1])\n",
    "                    operatorsStack.pop()\n",
    "                operatorsStack.append(c)\n",
    "                        \n",
    "            elif c == '*' or c == '/':\n",
    "                while operatorsStack and operatorsStack[-1] == '/' or operatorsStack[-1] == '*':\n",
    "                    postFix.append(operatorsStack[-1])\n",
    "                    print (operatorsStack[-1])\n",
    "                    operatorsStack.pop()\n",
    "                operatorsStack.append(c)\n",
    "            \n",
    "            else:\n",
    "                while i < len(expression) - 1:\n",
    "                    if isDigit(expression[i+1]) or expression[i+1] == '.':\n",
    "                        c+= expression[i+1]\n",
    "                        i += 1\n",
    "                    else:\n",
    "                        break\n",
    "                postFix.append(float(c))\n",
    "        \n",
    "            i += 1\n",
    "        \n",
    "        while operatorsStack:\n",
    "            postFix += operatorsStack[-1]\n",
    "            operatorsStack.pop()\n",
    "            \n",
    "        return postFix\n",
    "    \n",
    "    def evaluatePostFixExpression(expression):\n",
    "        operandsStack = []\n",
    "        for element in expression:\n",
    "            if isinstance(element, float):\n",
    "                operandsStack.append(element)\n",
    "            else:\n",
    "                op1 = operandsStack.pop()\n",
    "                op2 = operandsStack.pop()\n",
    "                result = 0\n",
    "                if element == '*':\n",
    "                    result = op2 * op1\n",
    "                elif element == '/':\n",
    "                    result = op2 / op1\n",
    "                elif element == '-':\n",
    "                    result = op2 - op1\n",
    "                else:\n",
    "                    result = op2 + op1\n",
    "                operandsStack.append(result)\n",
    "        return operandsStack.pop()\n",
    "    \n",
    "    postFix = convertToPostFix(expression)\n",
    "    return evaluatePostFixExpression(postFix)\n",
    "\n",
    "# expressionEvaluator('3+6*5-1/2.5')"
   ]
  },
  {
   "cell_type": "code",
   "execution_count": 8,
   "metadata": {
    "collapsed": false,
    "deletable": true,
    "editable": true
   },
   "outputs": [],
   "source": [
    "def calculateNthFibonacci(n):\n",
    "    if n == 0:\n",
    "        return 0\n",
    "    \n",
    "    if n == 1:\n",
    "        return 1\n",
    "    return calculateNthFibonacci(n-1) + calculateNthFibonacci(n-2)\n",
    "\n",
    "# calculateNthFibonacci(11)\n",
    "\n",
    "memory = {}\n",
    "def memoizedNthFibonacci(n):\n",
    "    if n == 0:\n",
    "        memory[n] = 0\n",
    "    if n == 1:\n",
    "        memory[n] = 1\n",
    "        \n",
    "    if memory.get(n) == None:\n",
    "        memory[n] = memoizedNthFibonacci(n-1) + memoizedNthFibonacci(n-2)\n",
    "    \n",
    "    return memory[n]\n",
    "\n",
    "# memoizedNthFibonacci(47)"
   ]
  },
  {
   "cell_type": "code",
   "execution_count": 50,
   "metadata": {
    "collapsed": false,
    "deletable": true,
    "editable": true
   },
   "outputs": [],
   "source": [
    "def quickSortRec(arr, low, high):\n",
    "    pivot = arr[low]\n",
    "    i = low\n",
    "    j = high\n",
    "    while i < j:\n",
    "        while i <= high and arr[i] <= pivot:\n",
    "            i += 1\n",
    "        while arr[j] > pivot:\n",
    "            j -= 1\n",
    "        \n",
    "        if i < j:\n",
    "            arr[i], arr[j] = arr[j], arr[i]\n",
    "        else:\n",
    "            break\n",
    "    \n",
    "    arr[low] = arr[j]\n",
    "    arr[j]= pivot\n",
    "    \n",
    "    return j\n",
    "\n",
    "def quickSort(arr, low, high):\n",
    "    if high > low:\n",
    "        pivot = quickSortRec(arr,low,high)\n",
    "        quickSort(arr,low, pivot-1)\n",
    "        quickSort(arr, pivot+1, high)\n",
    "    return arr\n",
    "\n",
    "# quickSort(arr, 0, len(arr)-1)"
   ]
  },
  {
   "cell_type": "code",
   "execution_count": 60,
   "metadata": {
    "collapsed": false
   },
   "outputs": [],
   "source": [
    "def mergeSort(arr):\n",
    "    if len(arr) == 1:\n",
    "        return arr\n",
    "    mid = int(len(arr)/2)\n",
    "    arr1 = mergeSort(arr[:mid])\n",
    "    arr2 = mergeSort(arr[mid:])\n",
    "    return merge(arr1, arr2)\n",
    "\n",
    "def merge(arr1,arr2):\n",
    "    newArr = []\n",
    "    i = 0\n",
    "    j = 0\n",
    "    while i < len(arr1) and j < len(arr2):\n",
    "        if arr1[i] <= arr2[j]:\n",
    "            newArr.append(arr1[i])\n",
    "            i+= 1\n",
    "        else:\n",
    "            newArr.append(arr2[j])\n",
    "            j+= 1\n",
    "    \n",
    "    if i == len(arr1):\n",
    "        newArr += arr2[j:]\n",
    "    else:\n",
    "        newArr += arr1[i:]\n",
    "    return newArr\n",
    "\n",
    "# mergeSort(arr)"
   ]
  },
  {
   "cell_type": "code",
   "execution_count": null,
   "metadata": {
    "collapsed": true
   },
   "outputs": [],
   "source": []
  },
  {
   "cell_type": "code",
   "execution_count": null,
   "metadata": {
    "collapsed": true
   },
   "outputs": [],
   "source": []
  }
 ],
 "metadata": {
  "kernelspec": {
   "display_name": "Python 3",
   "language": "python",
   "name": "python3"
  },
  "language_info": {
   "codemirror_mode": {
    "name": "ipython",
    "version": 3
   },
   "file_extension": ".py",
   "mimetype": "text/x-python",
   "name": "python",
   "nbconvert_exporter": "python",
   "pygments_lexer": "ipython3",
   "version": "3.5.2"
  }
 },
 "nbformat": 4,
 "nbformat_minor": 2
}
